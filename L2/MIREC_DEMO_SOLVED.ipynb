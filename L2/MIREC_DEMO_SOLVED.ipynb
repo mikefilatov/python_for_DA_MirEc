{
 "cells": [
  {
   "cell_type": "markdown",
   "metadata": {},
   "source": [
    "# Решение задач демо-версии контрольной 1\n",
    "\n",
    "Демка [здесь](https://online.hse.ru/mod/quiz/view.php?id=235078)."
   ]
  },
  {
   "cell_type": "code",
   "execution_count": 1,
   "metadata": {},
   "outputs": [
    {
     "name": "stdin",
     "output_type": "stream",
     "text": [
      " 6\n"
     ]
    },
    {
     "name": "stdout",
     "output_type": "stream",
     "text": [
      "ЗАЧЕТ\n"
     ]
    }
   ],
   "source": [
    "# Задача 6\n",
    "\n",
    "mark = int(input())\n",
    "\n",
    "if mark >= 4:\n",
    "    print('ЗАЧЕТ')\n",
    "else:\n",
    "    print('НЕЗАЧЕТ')"
   ]
  },
  {
   "cell_type": "code",
   "execution_count": 2,
   "metadata": {},
   "outputs": [
    {
     "name": "stdin",
     "output_type": "stream",
     "text": [
      " 3\n",
      " 10\n"
     ]
    },
    {
     "name": "stdout",
     "output_type": "stream",
     "text": [
      "16\n",
      "36\n",
      "64\n",
      "100\n"
     ]
    }
   ],
   "source": [
    "# Задача 7\n",
    "N1 = int(input())\n",
    "N2 = int(input())\n",
    "\n",
    "while N1 <= N2:\n",
    "    if N1 % 2 == 0:\n",
    "        print(N1 ** 2)\n",
    "    N1 += 1"
   ]
  },
  {
   "cell_type": "code",
   "execution_count": 6,
   "metadata": {},
   "outputs": [
    {
     "name": "stdin",
     "output_type": "stream",
     "text": [
      " Оля Алена\n",
      " яблоки апельсины\n"
     ]
    },
    {
     "name": "stdout",
     "output_type": "stream",
     "text": [
      "Оля любит яблоки\n",
      "Алена любит апельсины\n"
     ]
    }
   ],
   "source": [
    "# Задача 8\n",
    "names = input().split()\n",
    "fruits = input().split()\n",
    "\n",
    "for i in range(len(names)):\n",
    "    print(f'{names[i]} любит {fruits[i]}')"
   ]
  },
  {
   "cell_type": "code",
   "execution_count": 8,
   "metadata": {},
   "outputs": [
    {
     "name": "stdout",
     "output_type": "stream",
     "text": [
      "False\n"
     ]
    }
   ],
   "source": [
    "# Задача 9. Решение 1\n",
    "def check_first_letter(word, letter):\n",
    "    return word.startswith(letter)\n",
    "\n",
    "print(check_first_letter('кот', 'т'))"
   ]
  },
  {
   "cell_type": "code",
   "execution_count": 9,
   "metadata": {},
   "outputs": [
    {
     "name": "stdout",
     "output_type": "stream",
     "text": [
      "False\n"
     ]
    }
   ],
   "source": [
    "# Задача 9. Решение 2\n",
    "\n",
    "def check_first_letter(word, letter):\n",
    "    if word[0] == letter:\n",
    "        return True\n",
    "    return False\n",
    "\n",
    "print(check_first_letter('кот', 'т'))"
   ]
  },
  {
   "cell_type": "code",
   "execution_count": null,
   "metadata": {},
   "outputs": [],
   "source": [
    "# Задача 10. Решение 1\n",
    "d = {}\n",
    "student = input()\n",
    "\n",
    "while student != 'END':\n",
    "    key,value = student.split('; ')\n",
    "    if key not in d:\n",
    "        d[key] = [value]\n",
    "    else:\n",
    "        d[key].append(value)\n",
    "    student = input()\n",
    "\n",
    "lucky_numbers = input().split()\n",
    "\n",
    "winners = set()\n",
    "\n",
    "for key in d:\n",
    "    for number in lucky_numbers:\n",
    "        if number in d[key]:\n",
    "            winners.add(key)\n",
    "            \n",
    "print(*sorted(winners), sep=', ')"
   ]
  },
  {
   "cell_type": "code",
   "execution_count": null,
   "metadata": {},
   "outputs": [],
   "source": [
    "# Задача 10. Решение 2\n",
    "\n",
    "d = {}\n",
    "student = input()\n",
    "\n",
    "while student != 'END':\n",
    "    key,value = student.split('; ')\n",
    "    if key not in d:\n",
    "        d[key] = [value]\n",
    "    else:\n",
    "        d[key].append(value)\n",
    "    student = input()\n",
    "\n",
    "lucky_numbers = set(input().split())\n",
    "\n",
    "winners = set()\n",
    "\n",
    "for key in d:\n",
    "    if set(d[key]) & lucky_numbers != set(): # более интеллектуально проверяем условие \n",
    "        winners.add(key)\n",
    "\n",
    "            \n",
    "print(*sorted(winners), sep=', ')\n"
   ]
  },
  {
   "cell_type": "code",
   "execution_count": 10,
   "metadata": {},
   "outputs": [],
   "source": [
    "# Задача 11\n",
    "def get_excellent(d):\n",
    "    exc = []\n",
    "    for key in d:\n",
    "        if sum(d[key])/len(d[key]) >= 8:\n",
    "            exc.append(key)\n",
    "    return sorted(exc)"
   ]
  },
  {
   "cell_type": "code",
   "execution_count": null,
   "metadata": {},
   "outputs": [],
   "source": [
    "# Задача 12. Решение 1\n",
    "def aps_sort(line):\n",
    "    return int(line.split(',')[-1])\n",
    "\n",
    "metro = input()\n",
    "\n",
    "with open('apartments.csv', encoding='utf8') as fh:\n",
    "    aps_filtered = []\n",
    "    for line in fh:\n",
    "        if line.split(',')[2] == metro:\n",
    "            aps_filtered.append(line)\n",
    "            \n",
    "with open('filtered-apartments.csv', 'w', encoding='utf8') as fh:\n",
    "    for line in sorted(aps_filtered, key=aps_sort):\n",
    "        fh.write(line)"
   ]
  },
  {
   "cell_type": "code",
   "execution_count": 11,
   "metadata": {},
   "outputs": [
    {
     "name": "stdin",
     "output_type": "stream",
     "text": [
      " Бабушкинская\n"
     ]
    }
   ],
   "source": [
    "# Задача 12. Решение 2 — с lambda функцией\n",
    "\n",
    "metro = input()\n",
    "\n",
    "with open('apartments.csv', encoding='utf8') as fh:\n",
    "    aps_filtered = []\n",
    "    for line in fh:\n",
    "        if line.split(',')[2] == metro:\n",
    "            aps_filtered.append(line)\n",
    "            \n",
    "with open('filtered-apartments.csv', 'w', encoding='utf8') as fh:\n",
    "    for line in sorted(aps_filtered, key=lambda x:int(x.split(',')[-1])):\n",
    "        fh.write(line)"
   ]
  }
 ],
 "metadata": {
  "kernelspec": {
   "display_name": "Python 3",
   "language": "python",
   "name": "python3"
  },
  "language_info": {
   "codemirror_mode": {
    "name": "ipython",
    "version": 3
   },
   "file_extension": ".py",
   "mimetype": "text/x-python",
   "name": "python",
   "nbconvert_exporter": "python",
   "pygments_lexer": "ipython3",
   "version": "3.8.5"
  }
 },
 "nbformat": 4,
 "nbformat_minor": 4
}
